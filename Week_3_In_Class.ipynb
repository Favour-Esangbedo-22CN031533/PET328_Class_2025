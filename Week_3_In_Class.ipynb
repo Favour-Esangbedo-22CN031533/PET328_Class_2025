{
 "cells": [
  {
   "cell_type": "markdown",
   "id": "2b05b6a3",
   "metadata": {},
   "source": [
    "... to the only wise God - TTOWG"
   ]
  },
  {
   "cell_type": "markdown",
   "id": "ce54c558",
   "metadata": {},
   "source": [
    "# Introduction to Control Structures"
   ]
  },
  {
   "cell_type": "markdown",
   "id": "56f06ecd",
   "metadata": {},
   "source": [
    "##  In-Class Learning Activities"
   ]
  },
  {
   "cell_type": "markdown",
   "id": "dd2f32fd",
   "metadata": {},
   "source": [
    "### 1. Vital Sign Quiz"
   ]
  },
  {
   "cell_type": "markdown",
   "id": "1d7174e4",
   "metadata": {},
   "source": [
    "The purpose of this activity is as follow:\n",
    "\n",
    "+ to assess the extent of compliance with the pre-class assignments (videos and readings);\n",
    "+ to assess students' understanding of the materials in the pre-class assignments\n",
    "\n",
    "This quiz is not for grading purposes - rather, it is for the teaching staff to diagnose the state of the class and to focus on important points."
   ]
  },
  {
   "cell_type": "markdown",
   "id": "f75c7260",
   "metadata": {},
   "source": [
    "Here is the link to the quiz: https://forms.gle/oLWrpguk8yfpkXPS7"
   ]
  },
  {
   "cell_type": "markdown",
   "id": "8f56b8f3",
   "metadata": {},
   "source": [
    "### 2. A Quick Re-cap of Pre-class Video/Reading"
   ]
  },
  {
   "cell_type": "markdown",
   "id": "2053b023",
   "metadata": {},
   "source": [
    "### 3. Check-in with PQ"
   ]
  },
  {
   "cell_type": "markdown",
   "id": "4018e9a9",
   "metadata": {},
   "source": [
    "In this activity, we will scan through a past exam question and attempt problems that speaks to the topic for this week."
   ]
  },
  {
   "cell_type": "markdown",
   "id": "c69473d7",
   "metadata": {},
   "source": [
    "### 4. Group Task"
   ]
  },
  {
   "cell_type": "markdown",
   "id": "82b4b054",
   "metadata": {},
   "source": [
    "The class will break into three groups for this task: Team 'For', Team 'While' and Team 'if...else'\n",
    "\n",
    "Each team will come up with petroleum engineering examples that requires the use of the control structure after which the team is named."
   ]
  },
  {
   "cell_type": "markdown",
   "id": "7787523b",
   "metadata": {},
   "source": [
    "### 5. Class Demo"
   ]
  },
  {
   "attachments": {},
   "cell_type": "markdown",
   "id": "5bc79900",
   "metadata": {},
   "source": [
    "In this activity, we will build a custom function to compute reservoir formation compressibility."
   ]
  },
  {
   "cell_type": "markdown",
   "id": "1144dd69",
   "metadata": {},
   "source": [
    "### 6. Review of DataCamp experience"
   ]
  },
  {
   "cell_type": "code",
   "execution_count": null,
   "id": "aa6dde28",
   "metadata": {},
   "outputs": [],
   "source": []
  }
 ],
 "metadata": {
  "kernelspec": {
   "display_name": "Python 3 (ipykernel)",
   "language": "python",
   "name": "python3"
  },
  "language_info": {
   "codemirror_mode": {
    "name": "ipython",
    "version": 3
   },
   "file_extension": ".py",
   "mimetype": "text/x-python",
   "name": "python",
   "nbconvert_exporter": "python",
   "pygments_lexer": "ipython3",
   "version": "3.9.12"
  }
 },
 "nbformat": 4,
 "nbformat_minor": 5
}
